{
 "cells": [
  {
   "cell_type": "code",
   "execution_count": 2,
   "id": "37c9c3b5-b123-4b2b-b62b-7804e1de9a05",
   "metadata": {},
   "outputs": [
    {
     "name": "stdout",
     "output_type": "stream",
     "text": [
      "Datei bereits vorhanden: spacex_launch_dash.csv\n"
     ]
    },
    {
     "data": {
      "text/html": [
       "\n",
       "        <iframe\n",
       "            width=\"100%\"\n",
       "            height=\"650\"\n",
       "            src=\"http://127.0.0.1:8050/\"\n",
       "            frameborder=\"0\"\n",
       "            allowfullscreen\n",
       "            \n",
       "        ></iframe>\n",
       "        "
      ],
      "text/plain": [
       "<IPython.lib.display.IFrame at 0x11c4e2110>"
      ]
     },
     "metadata": {},
     "output_type": "display_data"
    },
    {
     "data": {
      "text/plain": [
       "'\\nMan kann den Port sezten und dann in einem getrennte Fenster laufen lassen. \\napp.run(debug=True, port=8051)\\n... \"http://127.0.0.1:8050\" als Adresse eigeben\\n'"
      ]
     },
     "execution_count": 2,
     "metadata": {},
     "output_type": "execute_result"
    }
   ],
   "source": [
    "# Schritt 1: Bibliotheken importieren\n",
    "import os\n",
    "import pandas as pd\n",
    "import plotly.express as px\n",
    "#from jupyter_dash import JupyterDash\n",
    "from dash import Dash\n",
    "from dash import dcc, html\n",
    "from dash.dependencies import Input, Output\n",
    "\n",
    "# Schritt 2: CSV-Datei herunterladen (nur wenn sie nicht vorhanden ist)\n",
    "csv_url = 'https://cf-courses-data.s3.us.cloud-object-storage.appdomain.cloud/IBM-DS0321EN-SkillsNetwork/datasets/spacex_launch_dash.csv'\n",
    "csv_filename = 'spacex_launch_dash.csv'\n",
    "\n",
    "if not os.path.exists(csv_filename):\n",
    "    import requests\n",
    "    response = requests.get(csv_url)\n",
    "    with open(csv_filename, 'wb') as f:\n",
    "        f.write(response.content)\n",
    "    print(\"Datei heruntergeladen:\", csv_filename)\n",
    "else:\n",
    "    print(\"Datei bereits vorhanden:\", csv_filename)\n",
    "\n",
    "# Schritt 3: CSV-Datei einlesen\n",
    "spacex_df = pd.read_csv(csv_filename)\n",
    "max_payload = spacex_df['Payload Mass (kg)'].max()\n",
    "min_payload = spacex_df['Payload Mass (kg)'].min()\n",
    "\n",
    "# Schritt 4: Dash-App erstellen\n",
    "#app = JupyterDash(__name__)\n",
    "app = Dash(__name__)\n",
    "\n",
    "app.layout = html.Div(children=[\n",
    "    html.H1('SpaceX Launch Records Dashboard',\n",
    "            style={'textAlign': 'center', 'color': '#503D36', 'font-size': 40}),\n",
    "    \n",
    "    dcc.Dropdown(\n",
    "        id='site-dropdown',\n",
    "        options=[{'label': 'All Sites', 'value': 'ALL'}] +\n",
    "                [{'label': site, 'value': site} for site in spacex_df['Launch Site'].unique()],\n",
    "        value='ALL',\n",
    "        placeholder=\"Select a Launch Site\",\n",
    "        searchable=True\n",
    "    ),\n",
    "    html.Br(),\n",
    "\n",
    "    html.Div(dcc.Graph(id='success-pie-chart')),\n",
    "    html.Br(),\n",
    "\n",
    "    html.P(\"Payload range (Kg):\"),\n",
    "    dcc.RangeSlider(\n",
    "        id='payload-slider',\n",
    "        min=0,\n",
    "        max=10000,\n",
    "        step=1000,\n",
    "        marks={i: f'{i}' for i in range(0, 10001, 2500)},\n",
    "        value=[min_payload, max_payload]\n",
    "    ),\n",
    "    html.Br(),\n",
    "\n",
    "    html.Div(dcc.Graph(id='success-payload-scatter-chart'))\n",
    "])\n",
    "\n",
    "# Schritt 5: Callback für Pie-Chart\n",
    "@app.callback(\n",
    "    Output('success-pie-chart', 'figure'),\n",
    "    Input('site-dropdown', 'value')\n",
    ")\n",
    "def update_pie_chart(selected_site):\n",
    "    if selected_site == 'ALL':\n",
    "        fig = px.pie(spacex_df, \n",
    "                     names='Launch Site', \n",
    "                     values='class', \n",
    "                     title='Total Success Launches by Site')\n",
    "    else:\n",
    "        filtered_df = spacex_df[spacex_df['Launch Site'] == selected_site]\n",
    "        fig = px.pie(filtered_df,\n",
    "                     names='class',\n",
    "                     title=f'Total Success vs Failure for site {selected_site}')\n",
    "    return fig\n",
    "\n",
    "# Schritt 6: Callback für Scatter-Chart\n",
    "@app.callback(\n",
    "    Output('success-payload-scatter-chart', 'figure'),\n",
    "    [Input('site-dropdown', 'value'),\n",
    "     Input('payload-slider', 'value')]\n",
    ")\n",
    "def update_scatter_chart(selected_site, payload_range):\n",
    "    low, high = payload_range\n",
    "    filtered_df = spacex_df[(spacex_df['Payload Mass (kg)'] >= low) & \n",
    "                            (spacex_df['Payload Mass (kg)'] <= high)]\n",
    "\n",
    "    if selected_site != 'ALL':\n",
    "        filtered_df = filtered_df[filtered_df['Launch Site'] == selected_site]\n",
    "\n",
    "    fig = px.scatter(filtered_df,\n",
    "                     x='Payload Mass (kg)',\n",
    "                     y='class',\n",
    "                     color='Booster Version Category',\n",
    "                     title='Correlation between Payload and Success')\n",
    "    return fig\n",
    "\n",
    "# Schritt 7: App im Notebook starten\n",
    "#app.run(debug=True)\n",
    "app.run(debug=True, use_reloader=False, open_browser=True)\n",
    "\n",
    "\"\"\"\n",
    "Man kann den Port sezten und dann in einem getrennte Fenster laufen lassen. \n",
    "app.run(debug=True, port=8051)\n",
    "... \"http://127.0.0.1:8050\" als Adresse eigeben\n",
    "\"\"\""
   ]
  },
  {
   "cell_type": "code",
   "execution_count": null,
   "id": "f660af30-998d-4b64-94b4-35d9ba77b8b4",
   "metadata": {},
   "outputs": [],
   "source": []
  }
 ],
 "metadata": {
  "kernelspec": {
   "display_name": "Python [conda env:base] *",
   "language": "python",
   "name": "conda-base-py"
  },
  "language_info": {
   "codemirror_mode": {
    "name": "ipython",
    "version": 3
   },
   "file_extension": ".py",
   "mimetype": "text/x-python",
   "name": "python",
   "nbconvert_exporter": "python",
   "pygments_lexer": "ipython3",
   "version": "3.11.5"
  }
 },
 "nbformat": 4,
 "nbformat_minor": 5
}
